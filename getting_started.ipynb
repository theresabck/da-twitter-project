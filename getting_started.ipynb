{
 "cells": [
  {
   "cell_type": "code",
   "execution_count": null,
   "metadata": {},
   "outputs": [],
   "source": [
    "# install the kaggle api package\n",
    "\n",
    "!pip install opendatasets --upgrade\n",
    "\n",
    "# go to your kaggle profile. go to settings. under api select 'create new token'.\n",
    "\n",
    "# from the json file add the credentials to your .env file in the following format:\n",
    "# KAGGLE_USERNAME = \"username\"\n",
    "# KAGGLE_KEY = \"key\"\n",
    "\n",
    "# if .env file does not exits create .env file\n",
    "\n",
    "!touch .env\n",
    "\n",
    "# create data folder if does not exist\n",
    "\n",
    "!mkdir data\n",
    "\n",
    "# don't forget to add the data/ folder to your .gitignore file"
   ]
  },
  {
   "cell_type": "code",
   "execution_count": 1,
   "metadata": {},
   "outputs": [],
   "source": [
    "from twitter_func import get_kaggle\n",
    "\n",
    "url = 'https://www.kaggle.com/datasets/amirhosseinnaghshzan/twitter-2022'\n",
    "file_name = 'dataset.csv'\n",
    "\n",
    "get_kaggle(url, file_name)"
   ]
  },
  {
   "cell_type": "code",
   "execution_count": 4,
   "metadata": {},
   "outputs": [],
   "source": [
    "import pandas as pd"
   ]
  },
  {
   "cell_type": "code",
   "execution_count": 5,
   "metadata": {},
   "outputs": [
    {
     "name": "stderr",
     "output_type": "stream",
     "text": [
      "/var/folders/5t/qp4h49ss46q2tzmcdgn4clc40000gn/T/ipykernel_16821/2729506822.py:1: DtypeWarning: Columns (5,7,18,21,22,23,25,26) have mixed types. Specify dtype option on import or set low_memory=False.\n",
      "  twitter = pd.read_csv('data/dataset.csv')\n"
     ]
    }
   ],
   "source": [
    "twitter = pd.read_csv('data/dataset.csv')"
   ]
  }
 ],
 "metadata": {
  "kernelspec": {
   "display_name": "base",
   "language": "python",
   "name": "python3"
  },
  "language_info": {
   "codemirror_mode": {
    "name": "ipython",
    "version": 3
   },
   "file_extension": ".py",
   "mimetype": "text/x-python",
   "name": "python",
   "nbconvert_exporter": "python",
   "pygments_lexer": "ipython3",
   "version": "3.11.4"
  }
 },
 "nbformat": 4,
 "nbformat_minor": 2
}
